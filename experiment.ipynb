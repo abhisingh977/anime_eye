{
 "cells": [
  {
   "cell_type": "code",
   "execution_count": 2,
   "metadata": {},
   "outputs": [],
   "source": [
    "import matplotlib.pyplot as plt\n",
    "%matplotlib inline\n",
    "import matplotlib\n",
    "matplotlib.rcParams['figure.figsize'] = (10.0, 10.0)\n",
    "matplotlib.rcParams['image.cmap'] = 'gray'\n",
    "import cv2\n",
    "import numpy as np\n",
    "import dlib\n"
   ]
  },
  {
   "cell_type": "code",
   "execution_count": null,
   "metadata": {},
   "outputs": [],
   "source": [
    "\n",
    "#cap = cv2.VideoCapture(0)\n",
    "\n",
    "detector = dlib.get_frontal_face_detector()\n",
    "predictor = dlib.shape_predictor(\"shape_predictor_68_face_landmarks.dat\")\n",
    "\n",
    "imageFilename =\"face.jpg\"\n",
    "img= cv2.imread(imageFilename)\n",
    "#cv2.imshow('img',img)\n",
    "faces = detector(img,2)\n",
    "#print(faces)\n",
    "for face in faces:\n",
    "    x1 = face.left()\n",
    "    y1 = face.top()\n",
    "    x2 = face.right()\n",
    "    y2 = face.bottom()\n",
    "    #cv2.rectangle(frame, (x1, y1), (x2, y2), (0, 255, 0), 3)\n",
    "    #print(face)\n",
    "    landmarks = predictor(img, face)\n",
    "\n",
    "    for n in range(36, 48):\n",
    "        x = landmarks.part(n).x\n",
    "        y = landmarks.part(n).y\n",
    "        cv2.circle(img, (x, y), 2, (255, 0, 0), -1)\n",
    "        \n",
    "cv2.imshow('img',img)\n",
    "cv2.waitKey(0) # waits until a key is pressed\n",
    "cv2.destroyAllWindows()\n"
   ]
  },
  {
   "cell_type": "code",
   "execution_count": null,
   "metadata": {},
   "outputs": [],
   "source": [
    "imageFilename =\"face.jpg\"\n",
    "img= cv2.imread(imageFilename)\n",
    "imgray = cv2.cvtColor(img, cv2.COLOR_BGR2GRAY)\n",
    "ret, thresh = cv2.threshold(imgray, 127, 255, 0)\n",
    "contours, hierarchy = cv2.findContours(thresh, cv2.RETR_TREE, cv2.CHAIN_APPROX_SIMPLE)\n",
    "for contour in contours:\n",
    "    if cv2.contourArea(contour) <1000:\n",
    "        continue\n",
    "\n",
    "    # Creates a rectangular box around the object in the frame\n",
    "    (x,y,w,h) = cv2.boundingRect(contour)\n",
    "    cv2.rectangle(img, (x, y), (x+w, y+h), (0, 255, 0), 3)\n",
    "cv2.imshow('img',img)\n",
    "cv2.waitKey(0) # waits until a key is pressed\n",
    "cv2.destroyAllWindows()"
   ]
  },
  {
   "cell_type": "code",
   "execution_count": null,
   "metadata": {},
   "outputs": [],
   "source": [
    "imageFilename =\"face.jpg\"\n",
    "rawImage= cv2.imread(imageFilename)\n",
    "\n",
    "\n",
    "faces = detector(img,2)\n",
    "#print(faces)\n",
    "for face in faces:\n",
    "    x1 = face.left()\n",
    "    y1 = face.top()\n",
    "    x2 = face.right()\n",
    "    y2 = face.bottom()\n",
    "    #cv2.rectangle(frame, (x1, y1), (x2, y2), (0, 255, 0), 3)\n",
    "    #print(face)\n",
    "    landmarks = predictor(img, face)\n",
    "\n",
    "    for n in range(36, 48):\n",
    "        x = landmarks.part(n).x\n",
    "        y = landmarks.part(n).y\n",
    "        cv2.circle(img, (x, y), 2, (255, 0, 0), -1)\n",
    "        \n",
    "bilateral_filtered_image = cv2.bilateralFilter(rawImage, 5, 175, 175)\n",
    "edge_detected_image = cv2.Canny(bilateral_filtered_image, 75, 200)\n",
    "#imgray = cv2.cvtColor(img, cv2.COLOR_BGR2GRAY)\n",
    "ret, thresh = cv2.threshold(imgray, 127, 255, 0)\n",
    "contours, hierarchy = cv2.findContours(thresh, cv2.RETR_TREE, cv2.CHAIN_APPROX_SIMPLE)\n",
    "contour_list = []\n",
    "for contour in contours:\n",
    "    approx = cv2.approxPolyDP(contour,0.01*cv2.arcLength(contour,True),True)\n",
    "    area = cv2.contourArea(contour)\n",
    "    if ((len(approx) > 8) & (area > 10) ):\n",
    "        contour_list.append(contour)\n",
    "cv2.drawContours(rawImage, contour_list,  -1, (255,0,0), 2)\n",
    "cv2.imshow('Objects Detected',rawImage)\n",
    "cv2.waitKey(0)\n",
    "cv2.destroyAllWindows()"
   ]
  },
  {
   "cell_type": "code",
   "execution_count": null,
   "metadata": {},
   "outputs": [],
   "source": [
    "\n",
    "  "
   ]
  },
  {
   "cell_type": "code",
   "execution_count": 6,
   "metadata": {},
   "outputs": [
    {
     "ename": "NameError",
     "evalue": "name 'thresh' is not defined",
     "output_type": "error",
     "traceback": [
      "\u001b[0;31m---------------------------------------------------------------------------\u001b[0m",
      "\u001b[0;31mNameError\u001b[0m                                 Traceback (most recent call last)",
      "\u001b[0;32m<ipython-input-6-e3adb0e7674c>\u001b[0m in \u001b[0;36m<module>\u001b[0;34m\u001b[0m\n\u001b[1;32m     68\u001b[0m     \u001b[0medge_detected_image\u001b[0m \u001b[0;34m=\u001b[0m \u001b[0mcv2\u001b[0m\u001b[0;34m.\u001b[0m\u001b[0mCanny\u001b[0m\u001b[0;34m(\u001b[0m\u001b[0mbilateral_filtered_image\u001b[0m\u001b[0;34m,\u001b[0m \u001b[0;36m75\u001b[0m\u001b[0;34m,\u001b[0m \u001b[0;36m200\u001b[0m\u001b[0;34m)\u001b[0m\u001b[0;34m\u001b[0m\u001b[0;34m\u001b[0m\u001b[0m\n\u001b[1;32m     69\u001b[0m     \u001b[0mret\u001b[0m\u001b[0;34m,\u001b[0m\u001b[0mthresh2\u001b[0m \u001b[0;34m=\u001b[0m \u001b[0mcv2\u001b[0m\u001b[0;34m.\u001b[0m\u001b[0mthreshold\u001b[0m\u001b[0;34m(\u001b[0m\u001b[0medge_detected_image\u001b[0m\u001b[0;34m,\u001b[0m\u001b[0;36m127\u001b[0m\u001b[0;34m,\u001b[0m\u001b[0;36m255\u001b[0m\u001b[0;34m,\u001b[0m\u001b[0;36m0\u001b[0m\u001b[0;34m)\u001b[0m\u001b[0;34m\u001b[0m\u001b[0;34m\u001b[0m\u001b[0m\n\u001b[0;32m---> 70\u001b[0;31m     \u001b[0mcontours2\u001b[0m\u001b[0;34m,\u001b[0m \u001b[0mhierarchy\u001b[0m \u001b[0;34m=\u001b[0m \u001b[0mcv2\u001b[0m\u001b[0;34m.\u001b[0m\u001b[0mfindContours\u001b[0m\u001b[0;34m(\u001b[0m\u001b[0mthresh\u001b[0m\u001b[0;34m,\u001b[0m\u001b[0mcv2\u001b[0m\u001b[0;34m.\u001b[0m\u001b[0mRETR_TREE\u001b[0m\u001b[0;34m,\u001b[0m\u001b[0mcv2\u001b[0m\u001b[0;34m.\u001b[0m\u001b[0mCHAIN_APPROX_SIMPLE\u001b[0m\u001b[0;34m)\u001b[0m\u001b[0;34m\u001b[0m\u001b[0;34m\u001b[0m\u001b[0m\n\u001b[0m\u001b[1;32m     71\u001b[0m     \u001b[0mcontour_list2\u001b[0m \u001b[0;34m=\u001b[0m \u001b[0;34m[\u001b[0m\u001b[0;34m]\u001b[0m\u001b[0;34m\u001b[0m\u001b[0;34m\u001b[0m\u001b[0m\n\u001b[1;32m     72\u001b[0m     \u001b[0;32mfor\u001b[0m \u001b[0mcontour\u001b[0m \u001b[0;32min\u001b[0m \u001b[0mcontours2\u001b[0m\u001b[0;34m:\u001b[0m\u001b[0;34m\u001b[0m\u001b[0;34m\u001b[0m\u001b[0m\n",
      "\u001b[0;31mNameError\u001b[0m: name 'thresh' is not defined"
     ]
    }
   ],
   "source": [
    "\n",
    "#cap = cv2.VideoCapture(0)\n",
    "\n",
    "detector = dlib.get_frontal_face_detector()\n",
    "predictor = dlib.shape_predictor(\"shape_predictor_68_face_landmarks.dat\")\n",
    "\n",
    "imageFilename =\"face.jpg\"\n",
    "img= cv2.imread(imageFilename)\n",
    "#cv2.imshow('img',img)\n",
    "faces = detector(img,2)\n",
    "#print(faces)\n",
    "for face in faces:\n",
    "    x1 = face.left()\n",
    "    y1 = face.top()\n",
    "    x2 = face.right()\n",
    "    y2 = face.bottom()\n",
    "    #cv2.rectangle(frame, (x1, y1), (x2, y2), (0, 255, 0), 3)\n",
    "    #print(face)\n",
    "    landmarks = predictor(img, face)\n",
    "    l=[]\n",
    "    for n in range(36, 48):\n",
    "        x = landmarks.part(n).x\n",
    "        y = landmarks.part(n).y\n",
    "        l.append((x,y))\n",
    "    leye=l[0:6]\n",
    "    reye=l[6:12]\n",
    "    leye=np.array(leye)\n",
    "    reye=np.array(reye)\n",
    "#         #cv2.circle(img, (x, y), 2, (255, 0, 0), -1)\n",
    "#     arl=eye_aspect_ratio(leye)\n",
    "\n",
    "#     arr=eye_aspect_ratio(reye)\n",
    "    leftEyeHull = cv2.convexHull(leye)\n",
    "    rightEyeHull = cv2.convexHull(reye)\n",
    "    \n",
    "    \n",
    "    \n",
    "    \n",
    "#     src_maskl = np.zeros(img.shape, img.dtype)\n",
    "#     polyl = leftEyeHull\n",
    "#     src_maskl = cv2.fillPoly(src_maskl, [polyl], (255, 255, 255))\n",
    "#     src_maskr = np.zeros(img.shape, img.dtype)\n",
    "#     polyr = rightEyeHull\n",
    "#     src_maskr = cv2.fillPoly(src_maskr, [polyr], (255, 255, 255))\n",
    "#     eyeRoiFinall = cv2.bitwise_and(src_maskl, img)\n",
    "#     eyeRoiFinalr = cv2.bitwise_and(src_maskr, img)\n",
    "    \n",
    "    \n",
    "#     bilateral_filtered_image1 = cv2.bilateralFilter(eyeRoiFinall, 5, 175, 175)\n",
    "#     edge_detected_image1 = cv2.Canny(bilateral_filtered_image1, 75, 200)\n",
    "#     ret,thresh1 = cv2.threshold(edge_detected_image1,127,255,0)\n",
    "#     contours1, hierarchy = cv2.findContours(thresh,cv2.RETR_TREE,cv2.CHAIN_APPROX_SIMPLE)\n",
    "#     contour_list1 = []\n",
    "#     for contour in contours1:\n",
    "#         approx = cv2.approxPolyDP(contour,0.01*cv2.arcLength(contour,True),True)\n",
    "#         area = cv2.contourArea(contour)\n",
    "#         contour_list1.append(contour)\n",
    "#     M1 = cv2.moments(contour_list1[1])\n",
    "#     cX1 = int(M[\"m10\"] / M[\"m00\"])\n",
    "#     cY1 = int(M[\"m01\"] / M[\"m00\"])    \n",
    "    \n",
    "    \n",
    "    \n",
    "    \n",
    "    \n",
    "    \n",
    "    bilateral_filtered_image = cv2.bilateralFilter(eyeRoiFinalr, 5, 175, 175)\n",
    "    #cv2.imshow('Bilateral', bilateral_filtered_image)\n",
    "    edge_detected_image = cv2.Canny(bilateral_filtered_image, 75, 200)\n",
    "    ret,thresh2 = cv2.threshold(edge_detected_image,127,255,0)\n",
    "    contours2, hierarchy = cv2.findContours(thresh,cv2.RETR_TREE,cv2.CHAIN_APPROX_SIMPLE)\n",
    "    contour_list2 = []\n",
    "    for contour in contours2:\n",
    "        approx = cv2.approxPolyDP(contour,0.01*cv2.arcLength(contour,True),True)\n",
    "        area = cv2.contourArea(contour)\n",
    "        contour_list2.append(contour)\n",
    "    M2 = cv2.moments(contour_list2[1])\n",
    "    cX2 = int(M[\"m10\"] / M[\"m00\"])\n",
    "    cY2 = int(M[\"m01\"] / M[\"m00\"])      \n",
    "\n",
    "\n",
    "cv2.drawContours(img, contour_list1[1],  -1, (255,0,0), 2)\n",
    "cv2.drawContours(img, contour_list2[1],  -1, (255,0,0), 2)\n",
    "cv2.imshow('img',img)\n",
    "cv2.waitKey(0) # waits until a key is pressed\n",
    "cv2.destroyAllWindows()\n",
    "\n"
   ]
  },
  {
   "cell_type": "code",
   "execution_count": 36,
   "metadata": {},
   "outputs": [],
   "source": [
    "imageFilename =\"face.jpg\"\n",
    "img= cv2.imread(imageFilename)\n",
    "src_mask = np.zeros(img.shape, img.dtype)\n",
    "poly = rightEyeHull\n",
    "src_mask = cv2.fillPoly(src_mask, [poly], (255, 255, 255))"
   ]
  },
  {
   "cell_type": "code",
   "execution_count": 37,
   "metadata": {},
   "outputs": [
    {
     "data": {
      "image/png": "[encoded data removed]",
      "text/plain": [
       "<Figure size 720x720 with 1 Axes>"
      ]
     },
     "metadata": {
      "needs_background": "light"
     },
     "output_type": "display_data"
    }
   ],
   "source": [
    "plt.imshow(src_mask[:,:,::-1])\n",
    "plt.show()"
   ]
  },
  {
   "cell_type": "code",
   "execution_count": null,
   "metadata": {},
   "outputs": [],
   "source": []
  },
  {
   "cell_type": "code",
   "execution_count": 38,
   "metadata": {},
   "outputs": [],
   "source": [
    "eyeRoiFinal = cv2.bitwise_and(src_mask, img)\n"
   ]
  },
  {
   "cell_type": "code",
   "execution_count": 39,
   "metadata": {},
   "outputs": [],
   "source": [
    "rawImage=eyeRoiFinal"
   ]
  },
  {
   "cell_type": "code",
   "execution_count": 40,
   "metadata": {},
   "outputs": [
    {
     "data": {
      "image/png": "[encoded data removed]",
      "text/plain": [
       "<Figure size 720x720 with 1 Axes>"
      ]
     },
     "metadata": {
      "needs_background": "light"
     },
     "output_type": "display_data"
    }
   ],
   "source": [
    "plt.imshow(eyeRoiFinal[:,:,::-1])\n",
    "plt.show()"
   ]
  },
  {
   "cell_type": "code",
   "execution_count": 41,
   "metadata": {
    "scrolled": false
   },
   "outputs": [
    {
     "data": {
      "image/png": "[encoded data removed]",
      "text/plain": [
       "<Figure size 720x720 with 1 Axes>"
      ]
     },
     "metadata": {
      "needs_background": "light"
     },
     "output_type": "display_data"
    }
   ],
   "source": [
    "plt.imshow(rawImage[:,:,::-1])\n",
    "plt.show()"
   ]
  },
  {
   "cell_type": "code",
   "execution_count": 81,
   "metadata": {},
   "outputs": [],
   "source": [
    "rawImage = cv2.imread('eyes.jpg')"
   ]
  },
  {
   "cell_type": "code",
   "execution_count": 82,
   "metadata": {},
   "outputs": [],
   "source": [
    "bilateral_filtered_image = cv2.bilateralFilter(rawImage, 5, 175, 175)\n",
    "#cv2.imshow('Bilateral', bilateral_filtered_image)\n",
    "edge_detected_image = cv2.Canny(bilateral_filtered_image, 75, 200)\n",
    "ret,thresh = cv2.threshold(edge_detected_image,127,255,0)\n",
    "contours, hierarchy = cv2.findContours(thresh,cv2.RETR_TREE,cv2.CHAIN_APPROX_SIMPLE)"
   ]
  },
  {
   "cell_type": "code",
   "execution_count": 83,
   "metadata": {},
   "outputs": [],
   "source": [
    "#img = cv2.drawContours(eyeRoiFinal, contours, -1, (0,255,0), 3)"
   ]
  },
  {
   "cell_type": "code",
   "execution_count": 86,
   "metadata": {},
   "outputs": [],
   "source": [
    "contour_list = []\n",
    "for contour in contours:\n",
    "    approx = cv2.approxPolyDP(contour,0.01*cv2.arcLength(contour,True),True)\n",
    "    area = cv2.contourArea(contour)\n",
    "    \n",
    "    contour_list.append(contour)"
   ]
  },
  {
   "cell_type": "code",
   "execution_count": 87,
   "metadata": {},
   "outputs": [
    {
     "data": {
      "text/plain": [
       "18"
      ]
     },
     "execution_count": 87,
     "metadata": {},
     "output_type": "execute_result"
    }
   ],
   "source": [
    "len(contour_list)"
   ]
  },
  {
   "cell_type": "code",
   "execution_count": 88,
   "metadata": {},
   "outputs": [
    {
     "data": {
      "text/plain": [
       "array([[[ 5, 17]],\n",
       "\n",
       "       [[ 4, 18]],\n",
       "\n",
       "       [[ 2, 18]],\n",
       "\n",
       "       [[ 1, 19]],\n",
       "\n",
       "       [[ 0, 19]],\n",
       "\n",
       "       [[ 2, 19]],\n",
       "\n",
       "       [[ 3, 18]],\n",
       "\n",
       "       [[ 4, 18]],\n",
       "\n",
       "       [[ 5, 17]],\n",
       "\n",
       "       [[10, 17]]], dtype=int32)"
      ]
     },
     "execution_count": 88,
     "metadata": {},
     "output_type": "execute_result"
    }
   ],
   "source": [
    "contour_list[1]"
   ]
  },
  {
   "cell_type": "code",
   "execution_count": 89,
   "metadata": {},
   "outputs": [],
   "source": [
    "\n",
    "# compute the center of the contour\n",
    "M = cv2.moments(contour_list[1])\n",
    "cX = int(M[\"m10\"] / M[\"m00\"])\n",
    "cY = int(M[\"m01\"] / M[\"m00\"])"
   ]
  },
  {
   "cell_type": "code",
   "execution_count": 90,
   "metadata": {},
   "outputs": [
    {
     "data": {
      "text/plain": [
       "2"
      ]
     },
     "execution_count": 90,
     "metadata": {},
     "output_type": "execute_result"
    }
   ],
   "source": [
    "cX"
   ]
  },
  {
   "cell_type": "code",
   "execution_count": 91,
   "metadata": {},
   "outputs": [
    {
     "data": {
      "text/plain": [
       "18"
      ]
     },
     "execution_count": 91,
     "metadata": {},
     "output_type": "execute_result"
    }
   ],
   "source": [
    "cY"
   ]
  },
  {
   "cell_type": "code",
   "execution_count": null,
   "metadata": {
    "scrolled": true
   },
   "outputs": [],
   "source": [
    "for i in range(len(contour_list)):\n",
    "    raw=rawImage\n",
    "    cv2.drawContours(raw, contour_list[i],  -1, (255,0,0), 2)\n",
    "    cv2.imshow('img',raw)\n",
    "    cv2.waitKey(0) # waits until a key is pressed\n",
    "    cv2.destroyAllWindows()"
   ]
  },
  {
   "cell_type": "code",
   "execution_count": null,
   "metadata": {
    "scrolled": true
   },
   "outputs": [],
   "source": [
    "plt.imshow(rawImage[:,:,::-1])\n",
    "plt.show()"
   ]
  },
  {
   "cell_type": "code",
   "execution_count": 32,
   "metadata": {},
   "outputs": [],
   "source": [
    "raw=rawImage\n",
    "cv2.drawContours(raw, contour_list[i],  -1, (255,0,0), 2)\n",
    "cv2.imshow('img',rawImage)\n",
    "cv2.waitKey(0) # waits until a key is pressed\n",
    "cv2.destroyAllWindows()"
   ]
  },
  {
   "cell_type": "code",
   "execution_count": 53,
   "metadata": {
    "scrolled": true
   },
   "outputs": [
    {
     "data": {
      "text/plain": [
       "array([[[0, 0, 0],\n",
       "        [0, 0, 0],\n",
       "        [0, 0, 0],\n",
       "        ...,\n",
       "        [0, 0, 0],\n",
       "        [0, 0, 0],\n",
       "        [0, 0, 0]],\n",
       "\n",
       "       [[0, 0, 0],\n",
       "        [0, 0, 0],\n",
       "        [0, 0, 0],\n",
       "        ...,\n",
       "        [0, 0, 0],\n",
       "        [0, 0, 0],\n",
       "        [0, 0, 0]],\n",
       "\n",
       "       [[0, 0, 0],\n",
       "        [0, 0, 0],\n",
       "        [0, 0, 0],\n",
       "        ...,\n",
       "        [0, 0, 0],\n",
       "        [0, 0, 0],\n",
       "        [0, 0, 0]],\n",
       "\n",
       "       ...,\n",
       "\n",
       "       [[0, 0, 0],\n",
       "        [0, 0, 0],\n",
       "        [0, 0, 0],\n",
       "        ...,\n",
       "        [0, 0, 0],\n",
       "        [0, 0, 0],\n",
       "        [0, 0, 0]],\n",
       "\n",
       "       [[0, 0, 0],\n",
       "        [0, 0, 0],\n",
       "        [0, 0, 0],\n",
       "        ...,\n",
       "        [0, 0, 0],\n",
       "        [0, 0, 0],\n",
       "        [0, 0, 0]],\n",
       "\n",
       "       [[0, 0, 0],\n",
       "        [0, 0, 0],\n",
       "        [0, 0, 0],\n",
       "        ...,\n",
       "        [0, 0, 0],\n",
       "        [0, 0, 0],\n",
       "        [0, 0, 0]]], dtype=uint8)"
      ]
     },
     "execution_count": 53,
     "metadata": {},
     "output_type": "execute_result"
    }
   ],
   "source": [
    "cv2.drawContours(rawImage, contour_list[1],  -1, (255,0,0), 2)"
   ]
  },
  {
   "cell_type": "code",
   "execution_count": 54,
   "metadata": {},
   "outputs": [
    {
     "data": {
      "image/png": "[encoded data removed]",
      "text/plain": [
       "<Figure size 720x720 with 1 Axes>"
      ]
     },
     "metadata": {
      "needs_background": "light"
     },
     "output_type": "display_data"
    }
   ],
   "source": [
    "plt.imshow(rawImage[:,:,::-1])\n",
    "plt.show()"
   ]
  },
  {
   "cell_type": "code",
   "execution_count": 57,
   "metadata": {},
   "outputs": [],
   "source": [
    "\n",
    "import numpy as np\n",
    "import cv2\n",
    "import time\n",
    "\n",
    "cap = cv2.VideoCapture(0) \t#640,480\n",
    "w = 640\n",
    "h = 480\n",
    "\n",
    "while(cap.isOpened()):\n",
    "    ret, frame = cap.read()\n",
    "    if ret==True:\n",
    "        \n",
    "\t\n",
    "\t\t#downsample\n",
    "\t\t#frameD = cv2.pyrDown(cv2.pyrDown(frame))\n",
    "        #frameDBW = cv2.cvtColor(frameD,cv2.COLOR_RGB2GRAY)\n",
    "        img=frame\n",
    "        #detect face\n",
    "        frame = cv2.cvtColor(frame,cv2.COLOR_RGB2GRAY)\n",
    "        faces = cv2.CascadeClassifier('haarcascade_eye.xml')\n",
    "        detected = faces.detectMultiScale(frame, 1.3, 5)\n",
    "\n",
    "        #faces = cv2.CascadeClassifier('haarcascade_frontalface_default.xml')\n",
    "        #detected2 = faces.detectMultiScale(frameDBW, 1.3, 5)\n",
    "\n",
    "        pupilFrame = frame\n",
    "        pupilO = frame\n",
    "        windowClose = np.ones((5,5),np.uint8)\n",
    "        windowOpen = np.ones((2,2),np.uint8)\n",
    "        windowErode = np.ones((2,2),np.uint8)\n",
    "\n",
    "        #draw square\n",
    "        for (x,y,w,h) in detected:\n",
    "            cv2.rectangle(frame, (x,y), ((x+w),(y+h)), (0,0,255),1)\t\n",
    "            cv2.line(frame, (x,y), ((x+w,y+h)), (0,0,255),1)\n",
    "            cv2.line(frame, (x+w,y), ((x,y+h)), (0,0,255),1)\n",
    "            pupilFrame = cv2.equalizeHist(frame[y+(int(h*.25)):(y+h), x:(x+w)])\n",
    "            pupilO = pupilFrame\n",
    "            ret, pupilFrame = cv2.threshold(pupilFrame,55,255,cv2.THRESH_BINARY)\t\t#50 ..nothin 70 is better\n",
    "            pupilFrame = cv2.morphologyEx(pupilFrame, cv2.MORPH_CLOSE, windowClose)\n",
    "            pupilFrame = cv2.morphologyEx(pupilFrame, cv2.MORPH_ERODE, windowErode)\n",
    "            pupilFrame = cv2.morphologyEx(pupilFrame, cv2.MORPH_OPEN, windowOpen)\n",
    "\n",
    "            #so above we do image processing to get the pupil..\n",
    "            #now we find the biggest blob and get the centriod\n",
    "\n",
    "            threshold = cv2.inRange(pupilFrame,250,255)\t\t#get the blobs\n",
    "            contours, hierarchy = cv2.findContours(threshold,cv2.RETR_LIST,cv2.CHAIN_APPROX_SIMPLE)\n",
    "\n",
    "            #if there are 3 or more blobs, delete the biggest and delete the left most for the right eye\n",
    "            #if there are 2 blob, take the second largest\n",
    "            #if there are 1 or less blobs, do nothing\n",
    "\t\t\t\n",
    "            if len(contours) >= 2:\n",
    "                #find biggest blob\n",
    "                maxArea = 0\n",
    "                MAindex = 0\t\t\t#to get the unwanted frame \n",
    "                distanceX = []\t\t#delete the left most (for right eye)\n",
    "                currentIndex = 0 \n",
    "                for cnt in contours:\n",
    "                    area = cv2.contourArea(cnt)\n",
    "                    center = cv2.moments(cnt)\n",
    "                    cx,cy = int(center['m10']/(center['m00']+0.00001)), int(center['m01']/(center['m00']+0.00001))\n",
    "                    distanceX.append(cx)\t\n",
    "                    if area > maxArea:\n",
    "                        maxArea = area\n",
    "                        MAindex = currentIndex\n",
    "                    currentIndex = currentIndex + 1\n",
    "\n",
    "                del contours[MAindex]\t\t#remove the picture frame contour\n",
    "                del distanceX[MAindex]\n",
    "\n",
    "            eye = 'right'\n",
    "\n",
    "            if len(contours) >= 2:\t\t#delete the left most blob for right eye\n",
    "                if eye == 'right':\n",
    "                    edgeOfEye = distanceX.index(min(distanceX))\n",
    "                else:\n",
    "                    edgeOfEye = distanceX.index(max(distanceX))\t\n",
    "                del contours[edgeOfEye]\n",
    "                del distanceX[edgeOfEye]\n",
    "\n",
    "            if len(contours) >= 1:\t\t#get largest blob\n",
    "                maxArea = 0\n",
    "                for cnt in contours:\n",
    "                    area = cv2.contourArea(cnt)\n",
    "                    if area > maxArea:\n",
    "                        maxArea = area\n",
    "                        largeBlob = cnt\n",
    "\n",
    "            if len(largeBlob) > 0:\t\n",
    "                center = cv2.moments(largeBlob)\n",
    "                cx,cy = int(center['m10']/center['m00']), int(center['m01']/center['m00'])\n",
    "                cv2.circle(frame,(cx,cy),5,255,-1)\n",
    "\n",
    "\n",
    "        #show picture\n",
    "        cv2.imshow('frame',frame)\n",
    "        #cv2.imshow('frame2',pupilFrame)\n",
    "        if cv2.waitKey(1) & 0xFF == ord('q'):\n",
    "            break\n",
    "\n",
    "\t#else:\n",
    "\t\t#break\n",
    "\n",
    "# Release everything if job is finished\n",
    "cap.release()\n",
    "cv2.destroyAllWindows()\n"
   ]
  },
  {
   "cell_type": "code",
   "execution_count": 58,
   "metadata": {},
   "outputs": [],
   "source": [
    "src = cv2.imread('eyes.jpg')"
   ]
  },
  {
   "cell_type": "code",
   "execution_count": null,
   "metadata": {},
   "outputs": [],
   "source": []
  }
 ],
 "metadata": {
  "kernelspec": {
   "display_name": "Python 3",
   "language": "python",
   "name": "python3"
  },
  "language_info": {
   "codemirror_mode": {
    "name": "ipython",
    "version": 3
   },
   "file_extension": ".py",
   "mimetype": "text/x-python",
   "name": "python",
   "nbconvert_exporter": "python",
   "pygments_lexer": "ipython3",
   "version": "3.7.6"
  }
 },
 "nbformat": 4,
 "nbformat_minor": 4
}
