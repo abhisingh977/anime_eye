{
 "cells": [
  {
   "cell_type": "code",
   "execution_count": 11,
   "metadata": {},
   "outputs": [],
   "source": [
    "def adjust_gamma(image, gamma=1.0):\n",
    "\n",
    "    invGamma = 1.0 / gamma\n",
    "    table = np.array([((i / 255.0) ** invGamma) * 255\n",
    "      for i in np.arange(0, 256)]).astype(\"uint8\")\n",
    "\n",
    "    return cv2.LUT(image, table)\n",
    "import cv2\n",
    "import numpy as np\n",
    "import dlib\n",
    "bright = 255\n",
    "contrast = 127\n",
    "cap = cv2.VideoCapture(0)\n",
    "\n",
    "detector = dlib.get_frontal_face_detector()\n",
    "predictor = dlib.shape_predictor(\"shape_predictor_68_face_landmarks.dat\")\n",
    "\n",
    "while True:\n",
    "    _, frame = cap.read()\n",
    "    #gray = cv2.cvtColor(frame, cv2.COLOR_BGR2GRAY)\n",
    "#     kernel = np.ones((5,5),np.float32)/25\n",
    "#     frame = cv2.filter2D(frame,-1,kernel)\n",
    "    frame = cv2.bilateralFilter(frame, 3, 175, 175)\n",
    "    faces = detector(frame)\n",
    "    #print(faces)\n",
    "    for face in faces:\n",
    "        x1 = face.left()\n",
    "        y1 = face.top()\n",
    "        x2 = face.right()\n",
    "        y2 = face.bottom()\n",
    "        #cv2.rectangle(frame, (x1, y1), (x2, y2), (0, 255, 0), 3)\n",
    "        #print(face)\n",
    "        landmarks = predictor(frame, face)\n",
    "        l=[]\n",
    "        for n in range(36, 48):\n",
    "            x = landmarks.part(n).x\n",
    "            y = landmarks.part(n).y\n",
    "            l.append((x,y))\n",
    "            #cv2.circle(frame, (x, y), 2, (255, 0, 0), -1)\n",
    "    leye=l[0:6]\n",
    "    reye=l[6:12]\n",
    "    leye=np.array(leye)\n",
    "    reye=np.array(reye)\n",
    "        #cv2.circle(img, (x, y), 2, (255, 0, 0), -1)\n",
    "#     arl=eye_aspect_ratio(leye)\n",
    "    leye=np.array(leye)\n",
    "    reye=np.array(reye)\n",
    "        #cv2.circle(img, (x, y), 2, (255, 0, 0), -1)\n",
    "#     arl=eye_aspect_ratio(leye)\n",
    "\n",
    "#     arr=eye_aspect_ratio(reye)\n",
    "#     arr=eye_aspect_ratio(reye)\n",
    "    leftEyeHull = cv2.convexHull(leye)\n",
    "    rightEyeHull = cv2.convexHull(reye)\n",
    "    #print(rightEyeHull.shape)\n",
    "#     cv2.drawContours(frame, [leftEyeHull], -1, (0, 255, 0), 1)\n",
    "#     cv2.drawContours(frame, [rightEyeHull], -1, (0, 255, 0), 1)\n",
    "#     cv2.fillPoly(frame, pts =[leftEyeHull], color=(0,0,0))\n",
    "#     cv2.fillPoly(frame, pts =[rightEyeHull], color=(0,0,0))\n",
    "    mask = np.zeros(frame.shape, dtype=frame.dtype)  \n",
    "#     cv2.fillConvexPoly(mask, np.int32(leftEyeHull), (255, 255, 255));\n",
    "#     cv2.fillConvexPoly(mask, np.int32(rightEyeHull), (255, 255, 255));\n",
    "    M1 = cv2.moments(leftEyeHull)\n",
    "    cX1 = int(M1[\"m10\"] / M1[\"m00\"])\n",
    "    cY1 = int(M1[\"m01\"] / M1[\"m00\"])\n",
    "    M2 = cv2.moments(rightEyeHull)\n",
    "    cX2 = int(M2[\"m10\"] / M2[\"m00\"])\n",
    "    cY2 = int(M2[\"m01\"] / M2[\"m00\"])\n",
    "    center1=(cX1,cY1)\n",
    "\n",
    "    center2=(cX2,cY2)\n",
    "    src = cv2.imread('shi.jpg')\n",
    "    src = cv2.bilateralFilter(src, 3, 175, 175)\n",
    "    src_mask = np.zeros(src.shape, src.dtype)\n",
    "\n",
    "    poly = np.array([ [99,117], [103,97], [111,86], [137,80], [165,84], [184,99], [192,117],[188,150],[164,165],[132,164],[119,154],[106,144]], np.int32)\n",
    "    src_mask = cv2.fillPoly(src_mask, [poly], (255, 255, 255))\n",
    "\n",
    "    src_mask2 = np.zeros(src.shape, src.dtype)\n",
    "    poly2 = np.array([ [323,128], [336,95], [347,86], [370,78], [397,84],[411,100], [413,133],[397,152] ,[368,164],[345,159],[330,143]], np.int32)\n",
    "    src_mask2 = cv2.fillPoly(src_mask2, [poly2], (255, 255, 255))\n",
    "\n",
    "\n",
    "    scale_percent = 40 # percent of original size\n",
    "    width = int(src.shape[1] * scale_percent / 100)\n",
    "    height = int(src.shape[0] * scale_percent / 100)\n",
    "    dim = (width, height)\n",
    "    # resize image\n",
    "    src = cv2.resize(src, dim, interpolation = cv2.INTER_AREA)\n",
    "    src_mask = cv2.resize(src_mask, dim, interpolation = cv2.INTER_AREA)\n",
    "    src_mask2 = cv2.resize(src_mask2, dim, interpolation = cv2.INTER_AREA)\n",
    "   # cv2.resize(src, dsize[, dst[, fx[, fy[, interpolation]]]])\n",
    "    output = cv2.seamlessClone(src,frame , src_mask, center1, cv2.NORMAL_CLONE)\n",
    "\n",
    "    output=cv2.seamlessClone(src, output, src_mask2, center2, cv2.NORMAL_CLONE)\n",
    "    gamma = 1.8                             # change the value here to get different result\n",
    "    adjusted = adjust_gamma(output, gamma=gamma)\n",
    "\n",
    "\n",
    "    cv2.imshow('Frame', adjusted)\n",
    "    k = cv2.waitKey(30) & 0xff\n",
    "    if k == 27:\n",
    "        break\n",
    "cap.release()\n",
    "cv2.destroyAllWindows()"
   ]
  },
  {
   "cell_type": "code",
   "execution_count": 1,
   "metadata": {},
   "outputs": [],
   "source": [
    "import cv2\n",
    "import numpy as np\n",
    "import dlib\n",
    "src = cv2.imread('shi.jpg')\n",
    "src = cv2.bilateralFilter(src, 3, 175, 175)\n",
    "cv2.imshow('img',src)\n",
    "src_mask = np.zeros(src.shape, src.dtype)\n",
    "\n",
    "poly = np.array([ [99,117], [103,97], [111,86], [137,80], [165,84], [184,99], [192,117],[188,150],[164,165],[132,164],[119,154],[106,144]], np.int32)\n",
    "src_mask = cv2.fillPoly(src_mask, [poly], (255, 255, 255))\n",
    "cv2.waitKey(0) # waits until a key is pressed\n",
    "cv2.destroyAllWindows()"
   ]
  },
  {
   "cell_type": "code",
   "execution_count": 2,
   "metadata": {},
   "outputs": [
    {
     "data": {
      "image/png": "[encoded data removed]",
      "text/plain": [
       "<Figure size 720x720 with 1 Axes>"
      ]
     },
     "metadata": {
      "needs_background": "light"
     },
     "output_type": "display_data"
    }
   ],
   "source": [
    "import matplotlib.pyplot as plt\n",
    "%matplotlib inline\n",
    "import matplotlib\n",
    "matplotlib.rcParams['figure.figsize'] = (10.0, 10.0)\n",
    "matplotlib.rcParams['image.cmap'] = 'gray'\n",
    "plt.imshow(src_mask[:,:,::-1])\n",
    "plt.show()"
   ]
  },
  {
   "cell_type": "code",
   "execution_count": 6,
   "metadata": {},
   "outputs": [],
   "source": [
    "src_mask2 = np.zeros(src.shape, src.dtype)\n",
    "poly2 = np.array([ [323,128], [336,95], [347,86], [370,78], [397,84],[411,100], [413,133],[397,152] ,[368,164],[345,159],[330,143]], np.int32)\n",
    "src_mask2 = cv2.fillPoly(src_mask2, [poly2], (255, 255, 255))"
   ]
  },
  {
   "cell_type": "code",
   "execution_count": 7,
   "metadata": {},
   "outputs": [
    {
     "data": {
      "image/png": "[encoded data removed]",
      "text/plain": [
       "<Figure size 720x720 with 1 Axes>"
      ]
     },
     "metadata": {
      "needs_background": "light"
     },
     "output_type": "display_data"
    }
   ],
   "source": [
    "import matplotlib.pyplot as plt\n",
    "%matplotlib inline\n",
    "import matplotlib\n",
    "matplotlib.rcParams['figure.figsize'] = (10.0, 10.0)\n",
    "matplotlib.rcParams['image.cmap'] = 'gray'\n",
    "plt.imshow(src_mask2[:,:,::-1])\n",
    "plt.show()"
   ]
  },
  {
   "cell_type": "code",
   "execution_count": null,
   "metadata": {},
   "outputs": [],
   "source": []
  },
  {
   "cell_type": "code",
   "execution_count": null,
   "metadata": {},
   "outputs": [],
   "source": []
  },
  {
   "cell_type": "code",
   "execution_count": 1,
   "metadata": {},
   "outputs": [],
   "source": [
    "\n",
    "# Python program to explain cv2.circle() method  \n",
    "    \n",
    "# importing cv2  \n",
    "import cv2  \n",
    "    \n",
    "# path  \n",
    "#path = r'C:\\Users\\Rajnish\\Desktop\\geeksforgeeks\\geeks.png'\n",
    "    \n",
    "# Reading an image in default mode \n",
    "image = cv2.imread('shi.jpg') \n",
    "    \n",
    "# Window name in which image is displayed \n",
    "window_name = 'Image'\n",
    "   \n",
    "# Center coordinates \n",
    "center_coordinates = (140, 123) \n",
    "  \n",
    "# Radius of circle \n",
    "radius = 45\n",
    "   \n",
    "# Blue color in BGR \n",
    "color = (255, 0, 0) \n",
    "   \n",
    "# Line thickness of 2 px \n",
    "thickness = 2\n",
    "   \n",
    "# Using cv2.circle() method \n",
    "# Draw a circle with blue line borders of thickness of 2 px \n",
    "image = cv2.circle(image, center_coordinates, radius, color, thickness) \n",
    "   \n",
    "# Displaying the image  \n",
    "cv2.imshow(window_name, image) \n",
    "cv2.waitKey(0) # waits until a key is pressed\n",
    "cv2.destroyAllWindows()"
   ]
  },
  {
   "cell_type": "code",
   "execution_count": null,
   "metadata": {},
   "outputs": [],
   "source": []
  }
 ],
 "metadata": {
  "kernelspec": {
   "display_name": "Python 3",
   "language": "python",
   "name": "python3"
  },
  "language_info": {
   "codemirror_mode": {
    "name": "ipython",
    "version": 3
   },
   "file_extension": ".py",
   "mimetype": "text/x-python",
   "name": "python",
   "nbconvert_exporter": "python",
   "pygments_lexer": "ipython3",
   "version": "3.7.6"
  }
 },
 "nbformat": 4,
 "nbformat_minor": 4
}
